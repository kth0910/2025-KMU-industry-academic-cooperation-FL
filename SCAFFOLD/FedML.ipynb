{
 "cells": [
  {
   "cell_type": "code",
   "execution_count": null,
   "metadata": {
    "colab": {
     "base_uri": "https://localhost:8080/"
    },
    "id": "qFv7GH8-J2Mp",
    "outputId": "09a06f83-abcf-4b01-b8ed-16bbc78fd544"
   },
   "outputs": [
    {
     "name": "stdout",
     "output_type": "stream",
     "text": [
      "Mounted at /content/drive\n",
      "/content/drive/MyDrive/2025KMU-FL/2025-KMU-industry-academic-cooperation-FL\n"
     ]
    }
   ],
   "source": [
    "from google.colab import drive\n",
    "drive.mount('/content/drive')\n",
    "%cd /content/drive/MyDrive/2025KMU-FL/2025-KMU-industry-academic-cooperation-FL/\n"
   ]
  },
  {
   "cell_type": "code",
   "execution_count": null,
   "metadata": {
    "colab": {
     "base_uri": "https://localhost:8080/"
    },
    "id": "u85aoGhmP1YK",
    "outputId": "5d95eb7a-6a49-4201-8ff3-7dc72382be24"
   },
   "outputs": [
    {
     "name": "stdout",
     "output_type": "stream",
     "text": [
      "Cloning into 'SCAFFOLD-PyTorch'...\n",
      "remote: Enumerating objects: 151, done.\u001b[K\n",
      "remote: Counting objects: 100% (69/69), done.\u001b[K\n",
      "remote: Compressing objects: 100% (40/40), done.\u001b[K\n",
      "remote: Total 151 (delta 47), reused 29 (delta 29), pack-reused 82 (from 1)\u001b[K\n",
      "Receiving objects: 100% (151/151), 40.72 KiB | 1.63 MiB/s, done.\n",
      "Resolving deltas: 100% (73/73), done.\n",
      "/content/drive/MyDrive/2025KMU-FL/2025-KMU-industry-academic-cooperation-FL/SCAFFOLD-PyTorch\n"
     ]
    }
   ],
   "source": [
    "!git clone https://github.com/KarhouTam/SCAFFOLD-PyTorch.git\n",
    "%cd SCAFFOLD-PyTorch\n"
   ]
  },
  {
   "cell_type": "code",
   "execution_count": 16,
   "metadata": {
    "colab": {
     "base_uri": "https://localhost:8080/"
    },
    "id": "SIQeaH6RU72-",
    "outputId": "f47d6b64-2a63-43d3-8dc3-9caeb057ec7b"
   },
   "outputs": [
    {
     "name": "stdout",
     "output_type": "stream",
     "text": [
      "3.12.3 (main, Jun 18 2025, 17:59:45) [GCC 13.3.0]\n"
     ]
    }
   ],
   "source": [
    "import sys\n",
    "print(sys.version)\n"
   ]
  },
  {
   "cell_type": "code",
   "execution_count": 17,
   "metadata": {
    "colab": {
     "base_uri": "https://localhost:8080/"
    },
    "id": "6Qiij6r9L9b9",
    "outputId": "0ec7db58-e26f-4756-e3de-1ade2a434ee8",
    "scrolled": true
   },
   "outputs": [
    {
     "name": "stdout",
     "output_type": "stream",
     "text": [
      "Requirement already satisfied: pathlib in /home/kth0910/jupyter-env/venv/lib/python3.12/site-packages (from -r requirements.txt (line 1)) (1.0.1)\n",
      "Requirement already satisfied: torch in /home/kth0910/jupyter-env/venv/lib/python3.12/site-packages (from -r requirements.txt (line 2)) (2.7.1)\n",
      "Requirement already satisfied: numpy in /home/kth0910/jupyter-env/venv/lib/python3.12/site-packages (from -r requirements.txt (line 3)) (2.3.1)\n",
      "Requirement already satisfied: torchvision in /home/kth0910/jupyter-env/venv/lib/python3.12/site-packages (from -r requirements.txt (line 4)) (0.22.1)\n",
      "Requirement already satisfied: tqdm in /home/kth0910/jupyter-env/venv/lib/python3.12/site-packages (from -r requirements.txt (line 5)) (4.67.1)\n",
      "Requirement already satisfied: rich in /home/kth0910/jupyter-env/venv/lib/python3.12/site-packages (from -r requirements.txt (line 6)) (14.0.0)\n",
      "Requirement already satisfied: pandas in /home/kth0910/jupyter-env/venv/lib/python3.12/site-packages (from -r requirements.txt (line 7)) (2.3.0)\n",
      "Requirement already satisfied: matplotlib in /home/kth0910/jupyter-env/venv/lib/python3.12/site-packages (from -r requirements.txt (line 8)) (3.10.3)\n",
      "Requirement already satisfied: filelock in /home/kth0910/jupyter-env/venv/lib/python3.12/site-packages (from torch->-r requirements.txt (line 2)) (3.18.0)\n",
      "Requirement already satisfied: typing-extensions>=4.10.0 in /home/kth0910/jupyter-env/venv/lib/python3.12/site-packages (from torch->-r requirements.txt (line 2)) (4.14.0)\n",
      "Requirement already satisfied: setuptools in /home/kth0910/jupyter-env/venv/lib/python3.12/site-packages (from torch->-r requirements.txt (line 2)) (80.9.0)\n",
      "Requirement already satisfied: sympy>=1.13.3 in /home/kth0910/jupyter-env/venv/lib/python3.12/site-packages (from torch->-r requirements.txt (line 2)) (1.14.0)\n",
      "Requirement already satisfied: networkx in /home/kth0910/jupyter-env/venv/lib/python3.12/site-packages (from torch->-r requirements.txt (line 2)) (3.5)\n",
      "Requirement already satisfied: jinja2 in /home/kth0910/jupyter-env/venv/lib/python3.12/site-packages (from torch->-r requirements.txt (line 2)) (3.1.6)\n",
      "Requirement already satisfied: fsspec in /home/kth0910/jupyter-env/venv/lib/python3.12/site-packages (from torch->-r requirements.txt (line 2)) (2025.5.1)\n",
      "Requirement already satisfied: nvidia-cuda-nvrtc-cu12==12.6.77 in /home/kth0910/jupyter-env/venv/lib/python3.12/site-packages (from torch->-r requirements.txt (line 2)) (12.6.77)\n",
      "Requirement already satisfied: nvidia-cuda-runtime-cu12==12.6.77 in /home/kth0910/jupyter-env/venv/lib/python3.12/site-packages (from torch->-r requirements.txt (line 2)) (12.6.77)\n",
      "Requirement already satisfied: nvidia-cuda-cupti-cu12==12.6.80 in /home/kth0910/jupyter-env/venv/lib/python3.12/site-packages (from torch->-r requirements.txt (line 2)) (12.6.80)\n",
      "Requirement already satisfied: nvidia-cudnn-cu12==9.5.1.17 in /home/kth0910/jupyter-env/venv/lib/python3.12/site-packages (from torch->-r requirements.txt (line 2)) (9.5.1.17)\n",
      "Requirement already satisfied: nvidia-cublas-cu12==12.6.4.1 in /home/kth0910/jupyter-env/venv/lib/python3.12/site-packages (from torch->-r requirements.txt (line 2)) (12.6.4.1)\n",
      "Requirement already satisfied: nvidia-cufft-cu12==11.3.0.4 in /home/kth0910/jupyter-env/venv/lib/python3.12/site-packages (from torch->-r requirements.txt (line 2)) (11.3.0.4)\n",
      "Requirement already satisfied: nvidia-curand-cu12==10.3.7.77 in /home/kth0910/jupyter-env/venv/lib/python3.12/site-packages (from torch->-r requirements.txt (line 2)) (10.3.7.77)\n",
      "Requirement already satisfied: nvidia-cusolver-cu12==11.7.1.2 in /home/kth0910/jupyter-env/venv/lib/python3.12/site-packages (from torch->-r requirements.txt (line 2)) (11.7.1.2)\n",
      "Requirement already satisfied: nvidia-cusparse-cu12==12.5.4.2 in /home/kth0910/jupyter-env/venv/lib/python3.12/site-packages (from torch->-r requirements.txt (line 2)) (12.5.4.2)\n",
      "Requirement already satisfied: nvidia-cusparselt-cu12==0.6.3 in /home/kth0910/jupyter-env/venv/lib/python3.12/site-packages (from torch->-r requirements.txt (line 2)) (0.6.3)\n",
      "Requirement already satisfied: nvidia-nccl-cu12==2.26.2 in /home/kth0910/jupyter-env/venv/lib/python3.12/site-packages (from torch->-r requirements.txt (line 2)) (2.26.2)\n",
      "Requirement already satisfied: nvidia-nvtx-cu12==12.6.77 in /home/kth0910/jupyter-env/venv/lib/python3.12/site-packages (from torch->-r requirements.txt (line 2)) (12.6.77)\n",
      "Requirement already satisfied: nvidia-nvjitlink-cu12==12.6.85 in /home/kth0910/jupyter-env/venv/lib/python3.12/site-packages (from torch->-r requirements.txt (line 2)) (12.6.85)\n",
      "Requirement already satisfied: nvidia-cufile-cu12==1.11.1.6 in /home/kth0910/jupyter-env/venv/lib/python3.12/site-packages (from torch->-r requirements.txt (line 2)) (1.11.1.6)\n",
      "Requirement already satisfied: triton==3.3.1 in /home/kth0910/jupyter-env/venv/lib/python3.12/site-packages (from torch->-r requirements.txt (line 2)) (3.3.1)\n",
      "Requirement already satisfied: pillow!=8.3.*,>=5.3.0 in /home/kth0910/jupyter-env/venv/lib/python3.12/site-packages (from torchvision->-r requirements.txt (line 4)) (11.2.1)\n",
      "Requirement already satisfied: markdown-it-py>=2.2.0 in /home/kth0910/jupyter-env/venv/lib/python3.12/site-packages (from rich->-r requirements.txt (line 6)) (3.0.0)\n",
      "Requirement already satisfied: pygments<3.0.0,>=2.13.0 in /home/kth0910/jupyter-env/venv/lib/python3.12/site-packages (from rich->-r requirements.txt (line 6)) (2.19.2)\n",
      "Requirement already satisfied: python-dateutil>=2.8.2 in /home/kth0910/jupyter-env/venv/lib/python3.12/site-packages (from pandas->-r requirements.txt (line 7)) (2.9.0.post0)\n",
      "Requirement already satisfied: pytz>=2020.1 in /home/kth0910/jupyter-env/venv/lib/python3.12/site-packages (from pandas->-r requirements.txt (line 7)) (2025.2)\n",
      "Requirement already satisfied: tzdata>=2022.7 in /home/kth0910/jupyter-env/venv/lib/python3.12/site-packages (from pandas->-r requirements.txt (line 7)) (2025.2)\n",
      "Requirement already satisfied: contourpy>=1.0.1 in /home/kth0910/jupyter-env/venv/lib/python3.12/site-packages (from matplotlib->-r requirements.txt (line 8)) (1.3.2)\n",
      "Requirement already satisfied: cycler>=0.10 in /home/kth0910/jupyter-env/venv/lib/python3.12/site-packages (from matplotlib->-r requirements.txt (line 8)) (0.12.1)\n",
      "Requirement already satisfied: fonttools>=4.22.0 in /home/kth0910/jupyter-env/venv/lib/python3.12/site-packages (from matplotlib->-r requirements.txt (line 8)) (4.58.4)\n",
      "Requirement already satisfied: kiwisolver>=1.3.1 in /home/kth0910/jupyter-env/venv/lib/python3.12/site-packages (from matplotlib->-r requirements.txt (line 8)) (1.4.8)\n",
      "Requirement already satisfied: packaging>=20.0 in /home/kth0910/jupyter-env/venv/lib/python3.12/site-packages (from matplotlib->-r requirements.txt (line 8)) (25.0)\n",
      "Requirement already satisfied: pyparsing>=2.3.1 in /home/kth0910/jupyter-env/venv/lib/python3.12/site-packages (from matplotlib->-r requirements.txt (line 8)) (3.2.3)\n",
      "Requirement already satisfied: mdurl~=0.1 in /home/kth0910/jupyter-env/venv/lib/python3.12/site-packages (from markdown-it-py>=2.2.0->rich->-r requirements.txt (line 6)) (0.1.2)\n",
      "Requirement already satisfied: six>=1.5 in /home/kth0910/jupyter-env/venv/lib/python3.12/site-packages (from python-dateutil>=2.8.2->pandas->-r requirements.txt (line 7)) (1.17.0)\n",
      "Requirement already satisfied: mpmath<1.4,>=1.1.0 in /home/kth0910/jupyter-env/venv/lib/python3.12/site-packages (from sympy>=1.13.3->torch->-r requirements.txt (line 2)) (1.3.0)\n",
      "Requirement already satisfied: MarkupSafe>=2.0 in /home/kth0910/jupyter-env/venv/lib/python3.12/site-packages (from jinja2->torch->-r requirements.txt (line 2)) (3.0.2)\n"
     ]
    }
   ],
   "source": [
    "!pip install -r requirements.txt"
   ]
  },
  {
   "cell_type": "code",
   "execution_count": 3,
   "metadata": {
    "colab": {
     "base_uri": "https://localhost:8080/"
    },
    "id": "HypvVXTCpMSg",
    "outputId": "269d75db-bf99-4f1b-8cc3-38980e1b7497"
   },
   "outputs": [
    {
     "name": "stdout",
     "output_type": "stream",
     "text": [
      "[Errno 2] No such file or directory: 'SCAFFOLD-PyTorch'\n",
      "/home/kth0910/jupyter-env/SCAFFOLD-PyTorch/SCAFFOLD-PyTorch\n",
      "/home/kth0910/jupyter-env/SCAFFOLD-PyTorch/SCAFFOLD-PyTorch\n"
     ]
    }
   ],
   "source": [
    "%cd SCAFFOLD-PyTorch\n",
    "!pwd"
   ]
  },
  {
   "cell_type": "code",
   "execution_count": 18,
   "metadata": {},
   "outputs": [
    {
     "name": "stdout",
     "output_type": "stream",
     "text": [
      "Tue Jun 24 02:35:06 2025       \n",
      "+-----------------------------------------------------------------------------------------+\n",
      "| NVIDIA-SMI 560.35.02              Driver Version: 560.94         CUDA Version: 12.6     |\n",
      "|-----------------------------------------+------------------------+----------------------+\n",
      "| GPU  Name                 Persistence-M | Bus-Id          Disp.A | Volatile Uncorr. ECC |\n",
      "| Fan  Temp   Perf          Pwr:Usage/Cap |           Memory-Usage | GPU-Util  Compute M. |\n",
      "|                                         |                        |               MIG M. |\n",
      "|=========================================+========================+======================|\n",
      "|   0  NVIDIA GeForce RTX 2060        On  |   00000000:07:00.0  On |                  N/A |\n",
      "| 49%   40C    P8             12W /  160W |     544MiB /   6144MiB |      4%      Default |\n",
      "|                                         |                        |                  N/A |\n",
      "+-----------------------------------------+------------------------+----------------------+\n",
      "                                                                                         \n",
      "+-----------------------------------------------------------------------------------------+\n",
      "| Processes:                                                                              |\n",
      "|  GPU   GI   CI        PID   Type   Process name                              GPU Memory |\n",
      "|        ID   ID                                                               Usage      |\n",
      "|=========================================================================================|\n",
      "|    0   N/A  N/A        26      G   /Xwayland                                   N/A      |\n",
      "+-----------------------------------------------------------------------------------------+\n",
      "True\n",
      "NVIDIA GeForce RTX 2060\n"
     ]
    }
   ],
   "source": [
    "!nvidia-smi\n",
    "import torch\n",
    "print(torch.cuda.is_available())        # True이면 사용 가능\n",
    "print(torch.cuda.get_device_name(0))    # GPU 이름\n"
   ]
  },
  {
   "cell_type": "code",
   "execution_count": 19,
   "metadata": {
    "colab": {
     "base_uri": "https://localhost:8080/"
    },
    "id": "bhhcldwr3vEP",
    "outputId": "314b7fff-ca0b-42fd-9d87-afb00906a603"
   },
   "outputs": [
    {
     "name": "stdout",
     "output_type": "stream",
     "text": [
      "\n",
      "=== Generating EMNIST dataset with similarity=0 ===\n",
      "100%|████████████████████████████████████████| 562M/562M [00:08<00:00, 70.0MB/s]\n",
      "\n",
      "=== Generating EMNIST dataset with similarity=10 ===\n",
      "100%|████████████████████████████████████████| 562M/562M [00:09<00:00, 56.4MB/s]\n",
      "\n",
      "=== Generating EMNIST dataset with similarity=100 ===\n",
      "100%|████████████████████████████████████████| 562M/562M [00:12<00:00, 46.3MB/s]\n"
     ]
    }
   ],
   "source": [
    "!python ./data/utils/run.py \\\n",
    "    --dataset emnist \\\n",
    "    --type user \\\n",
    "    --emnist_split balanced \\\n",
    "    --client_num_in_total 100 \\\n",
    "    --alpha 10 \\\n",
    "    --client_num_in_each_pickles 10 \\\n",
    "    --root ./datasets\n"
   ]
  },
  {
   "cell_type": "code",
   "execution_count": null,
   "metadata": {
    "colab": {
     "base_uri": "https://localhost:8080/",
     "height": 478
    },
    "id": "5xs-Bv2fpuI5",
    "outputId": "8b14cf1e-be8e-4335-ae3c-d289e9568c5f"
   },
   "outputs": [
    {
     "name": "stdout",
     "output_type": "stream",
     "text": [
      "[실행 중] sgd / similarity=0% / epochs=1 / batch_fraction=1.0\n"
     ]
    }
   ],
   "source": [
    "import os\n",
    "import pandas as pd\n",
    "import subprocess\n",
    "import matplotlib.pyplot as plt\n",
    "import matplotlib.ticker as ticker\n",
    "\n",
    "# 실험 설정 CSV 파일 경로\n",
    "csv_path = \"experiment_config_from_paper.csv\"\n",
    "df = pd.read_csv(csv_path)\n",
    "\n",
    "# 결과 저장용 리스트\n",
    "results = []\n",
    "\n",
    "# 알고리즘별 실행 경로\n",
    "algo_to_script = {\n",
    "    \"sgd\": \"src/server/fedavg.py\",  # 1 client로 설정되어 있으면 SGD로 동작\n",
    "    \"fedavg\": \"src/server/fedavg.py\",\n",
    "    \"fedprox\": \"src/server/fedprox.py\",\n",
    "    \"scaffold\": \"src/server/scaffold.py\",\n",
    "}\n",
    "\n",
    "# 출력 로그 저장 디렉토리\n",
    "log_dir = \"logs\"\n",
    "os.makedirs(log_dir, exist_ok=True)\n",
    "\n",
    "# 실험 실행 루프\n",
    "for idx, row in df.iterrows():\n",
    "    algorithm = row['algorithm']\n",
    "\n",
    "    similarity = int(row['similarity'])\n",
    "    epochs = int(row['epochs'])\n",
    "    batch_fraction = float(row['batch_fraction'])\n",
    "    sim_path = f\"data/datasets/emnist_sim{similarity}/emnist\"\n",
    "    print(f\"[실행 중] {algorithm} / similarity={similarity}% / epochs={epochs} / batch_fraction={batch_fraction}\")\n",
    "\n",
    "    # 로그 파일 경로 구성\n",
    "    filename = f\"{algorithm}_sim{similarity}_ep{epochs}.log\"\n",
    "    log_path = os.path.join(log_dir, filename)\n",
    "\n",
    "    # 실행\n",
    "    cmd = [\n",
    "        \"python\", \"-m\", f\"server.{algorithm if row['algorithm']!='sgd' else 'fedavg'}\",\n",
    "        \"--config_idx\", str(idx),\n",
    "        \"--data_root\", sim_path\n",
    "    ]\n",
    "    result = subprocess.run(\n",
    "        cmd,\n",
    "        capture_output=True,\n",
    "        text=True,\n",
    "        env={**os.environ, \"PYTHONPATH\": \"src:data\"}\n",
    "        )\n",
    "\n",
    "    # 로그 저장\n",
    "    with open(log_path, \"w\", encoding=\"utf-8\") as f:\n",
    "        f.write(result.stdout)\n",
    "        f.write(\"\\n\" + \"=\" * 80 + \"\\n\")\n",
    "        f.write(result.stderr)\n",
    "\n",
    "    # 수렴 라운드 찾기\n",
    "    round_str = next((line for line in result.stdout.splitlines() if \"Reached 0.5 acc\" in line), None)\n",
    "    if round_str:\n",
    "        rounds = int([x for x in round_str.split() if x.isdigit()][-1])\n",
    "    else:\n",
    "        rounds = -1 # 수렴 실패 시 -1로 기록\n",
    "\n",
    "    results.append({\n",
    "        \"algorithm\": algorithm,\n",
    "        \"similarity\": similarity,\n",
    "        \"epochs\": epochs,\n",
    "        \"rounds\": rounds\n",
    "    })\n",
    "\n",
    "# 결과 저장\n",
    "results_df = pd.DataFrame(results)\n",
    "results_df.to_csv(\"experiment_results.csv\", index=False)\n"
   ]
  },
  {
   "cell_type": "code",
   "execution_count": null,
   "metadata": {
    "colab": {
     "base_uri": "https://localhost:8080/"
    },
    "id": "CtAN6kddiAMy",
    "outputId": "10ff0685-1547-4bf5-eadf-f8f47ae8e1b6"
   },
   "outputs": [
    {
     "name": "stdout",
     "output_type": "stream",
     "text": [
      "[sys.path] 추가 완료\n",
      "['/content', '/env/python', '/usr/lib/python311.zip', '/usr/lib/python3.11', '/usr/lib/python3.11/lib-dynload', '', '/usr/local/lib/python3.11/dist-packages', '/usr/lib/python3/dist-packages', '/usr/local/lib/python3.11/dist-packages/IPython/extensions', '/usr/local/lib/python3.11/dist-packages/setuptools/_vendor', '/root/.ipython', '/content/drive/MyDrive/2025KMU-FL/2025-KMU-industry-academic-cooperation-FL/SCAFFOLD-PyTorch/src', '/content/drive/MyDrive/2025KMU-FL/2025-KMU-industry-academic-cooperation-FL/SCAFFOLD-PyTorch/data', '/content/drive/MyDrive/2025KMU-FL/2025-KMU-industry-academic-cooperation-FL/SCAFFOLD-PyTorch/src', '/content/drive/MyDrive/2025KMU-FL/2025-KMU-industry-academic-cooperation-FL/SCAFFOLD-PyTorch/data']\n"
     ]
    }
   ],
   "source": [
    "import sys\n",
    "import os\n",
    "\n",
    "# 현재 작업 디렉토리를 기준으로 절대 경로 생성\n",
    "project_root = os.path.abspath(\"src\")\n",
    "data_dir = os.path.abspath(\"data\")\n",
    "\n",
    "# sys.path에 추가\n",
    "sys.path.append(project_root)\n",
    "sys.path.append(data_dir)\n",
    "\n",
    "print(\"[sys.path] 추가 완료\")\n",
    "print(sys.path)"
   ]
  }
 ],
 "metadata": {
  "accelerator": "GPU",
  "colab": {
   "gpuType": "T4",
   "provenance": []
  },
  "kernelspec": {
   "display_name": "Python 3 (ipykernel)",
   "language": "python",
   "name": "python3"
  },
  "language_info": {
   "codemirror_mode": {
    "name": "ipython",
    "version": 3
   },
   "file_extension": ".py",
   "mimetype": "text/x-python",
   "name": "python",
   "nbconvert_exporter": "python",
   "pygments_lexer": "ipython3",
   "version": "3.12.3"
  }
 },
 "nbformat": 4,
 "nbformat_minor": 4
}
